{
 "cells": [
  {
   "cell_type": "code",
   "execution_count": 1,
   "metadata": {},
   "outputs": [],
   "source": [
    "import cv2\n",
    "import numpy as np\n",
    "import matplotlib.pyplot as plt\n",
    "\n",
    "from cs585_common import crop_video, segment_hands, angle_of_wheel_line"
   ]
  },
  {
   "cell_type": "code",
   "execution_count": 2,
   "metadata": {},
   "outputs": [],
   "source": [
    "# crop video to length. Do not redo this.\n",
    "input_video_path = 'data/audi_raw_data.mp4'\n",
    "output_video_path = 'data/audi_gravel_road_footage.mp4'\n",
    "start_time = (5 * 60)  # seconds\n",
    "end_time = (8 * 60 + 30)   # seconds\n",
    "\n",
    "#crop_video(input_video_path, output_video_path, start_time, end_time)"
   ]
  },
  {
   "cell_type": "code",
   "execution_count": 3,
   "metadata": {},
   "outputs": [],
   "source": [
    "def crop_road_snippet(frame):\n",
    "    # consts found by trial and error\n",
    "    return frame[100:200, 500:800]\n",
    "\n",
    "WHEEL_OFFSET = np.array((300, 300))\n",
    "def crop_steering_wheel(frame):\n",
    "    return frame[300:850, 300:925]"
   ]
  },
  {
   "cell_type": "code",
   "execution_count": 4,
   "metadata": {},
   "outputs": [],
   "source": [
    "def segment_gravel_road(frame):\n",
    "    # convert to HSV\n",
    "    hsv_frame = cv2.cvtColor(frame, cv2.COLOR_BGR2HSV)\n",
    "    blurred_frame = cv2.GaussianBlur(hsv_frame, (11, 11), 0)\n",
    "\n",
    "    lower_gray = np.array([0, 0, 50])\n",
    "    upper_gray = np.array([179, 50, 220])\n",
    "\n",
    "    mask = cv2.inRange(blurred_frame, lower_gray, upper_gray)\n",
    "\n",
    "    # Find contours\n",
    "    contours, _ = cv2.findContours(mask, cv2.RETR_EXTERNAL, cv2.CHAIN_APPROX_SIMPLE)\n",
    "\n",
    "    # Find the contour with the largest area\n",
    "    largest_contour = max(contours, key=cv2.contourArea)\n",
    "    hull = cv2.convexHull(largest_contour)\n",
    "\n",
    "    # Create a mask for the largest contour\n",
    "    output = np.zeros(mask.shape)\n",
    "    cv2.drawContours(output, [largest_contour], -1, 1, cv2.FILLED)\n",
    "\n",
    "    uppermost_point = tuple(hull[hull[:,:,1].argmin()][0])\n",
    "    \n",
    "    # Draw the major axis\n",
    "    ctr = int(mask.shape[1]/2)\n",
    "    x1, y1 = ctr, mask.shape[0]\n",
    "    x2, y2 = uppermost_point\n",
    "    cv2.drawContours(frame, [largest_contour], -1, (0, 255, 0), 5)\n",
    "    cv2.line(frame, (x1, y1), (x2, y2), (0, 0, 255), 2)\n",
    "\n",
    "    road_angle = np.rad2deg(np.arctan2((y2 - y1), (x2 - x1)))\n",
    "    \n",
    "    return frame, road_angle\n",
    "\n",
    "def count_l_r_mass(mask):\n",
    "    # draw centerline\n",
    "    ctr = int(mask.shape[1]/2)\n",
    "    \n",
    "    left_im = mask[0:-1, 0:ctr]\n",
    "    right_im = mask[0:mask.shape[0], ctr:mask.shape[1]]\n",
    "\n",
    "    ratio = np.sum(left_im) / np.sum(right_im)\n",
    "\n",
    "    return ratio"
   ]
  },
  {
   "cell_type": "code",
   "execution_count": 5,
   "metadata": {},
   "outputs": [],
   "source": [
    "# Open the video file\n",
    "input_video_path = 'data/audi_gravel_road_footage.mp4'\n",
    "video_capture = cv2.VideoCapture(input_video_path)\n",
    "\n",
    "# Loop through frames\n",
    "while True:\n",
    "    # Read a frame from the video\n",
    "    ret, frame = video_capture.read()\n",
    "\n",
    "    # Check if the frame is successfully read\n",
    "    if not ret:\n",
    "        break\n",
    "\n",
    "    road_frame = crop_road_snippet(frame)\n",
    "    road_frame, road_angle = segment_gravel_road(road_frame)\n",
    "    \n",
    "    wheel_frame = crop_steering_wheel(frame)\n",
    "    c1, c2 = segment_hands(wheel_frame)\n",
    "    \n",
    "    # cv2.line(frame, c1, c2, (0, 255, 0), 2)\n",
    "    # cv2.circle(frame, c1, 15, (255, 0, 0), -1)\n",
    "    # cv2.circle(frame, c2, 15, (0, 0, 255), -1)\n",
    "\n",
    "    angle = angle_of_wheel_line(c1, c2)\n",
    "    cv2.putText(road_frame, f\"Angle: {angle:.4f}\", (10, 10), 1, 1, (0, 0, 255))\n",
    "    cv2.putText(road_frame, f\"Angle: {road_angle:.4f}\", (10, 30), 1, 1, (255, 0, 0))\n",
    "\n",
    "    #cv2.putText(frame, f\"Ratio: {ratio:.4f}\", (10, 100), 1, 2, (0, 255, 0))\n",
    "\n",
    "    # Display the frame\n",
    "    cv2.imshow('Frame', road_frame)\n",
    "\n",
    "    # Wait for key press\n",
    "    key = cv2.waitKey(0) & 0xFF\n",
    "\n",
    "    # Quit if 'q' is pressed\n",
    "    if key == ord('q'):\n",
    "        break\n",
    "\n",
    "# Release video capture\n",
    "video_capture.release()\n",
    "cv2.destroyAllWindows()"
   ]
  },
  {
   "cell_type": "code",
   "execution_count": 6,
   "metadata": {},
   "outputs": [
    {
     "name": "stdout",
     "output_type": "stream",
     "text": [
      "Failed to analyze 37 frames out of 6091\n"
     ]
    }
   ],
   "source": [
    "# compute audi wheel/time\n",
    "\n",
    "wheel_angle_hist = []\n",
    "road_angle_hist = []\n",
    "\n",
    "input_video_path = 'data/audi_gravel_road_footage.mp4'\n",
    "cap = cv2.VideoCapture(input_video_path)\n",
    "success, frame = cap.read()\n",
    "\n",
    "fno = 0\n",
    "failno = 0\n",
    "\n",
    "while success:\n",
    "\n",
    "\tfno += 1\n",
    "\n",
    "\ttry:\n",
    "\t\troad_frame = crop_road_snippet(frame)\n",
    "\t\troad_frame, road_angle = segment_gravel_road(road_frame)\n",
    "\t\t\n",
    "\t\twheel_frame = crop_steering_wheel(frame)\n",
    "\t\tc1, c2 = segment_hands(wheel_frame)\n",
    "\t\tangle = angle_of_wheel_line(c1, c2)\n",
    "\n",
    "\t\twheel_angle_hist.append(angle)\n",
    "\t\troad_angle_hist.append(road_angle)\n",
    "\texcept:\n",
    "\t\tfailno += 1\n",
    "\t\n",
    "\t# read next frame\n",
    "\tsuccess, frame = cap.read()\n",
    "\n",
    "wheel_angle_arr = np.array(wheel_angle_hist)\n",
    "np.save('wheel_angle_hist.npy', wheel_angle_arr)\n",
    "\n",
    "road_angle_arr = np.array(road_angle_hist)\n",
    "\n",
    "print(f\"Failed to analyze {failno} frames out of {fno}\")"
   ]
  },
  {
   "cell_type": "code",
   "execution_count": 7,
   "metadata": {},
   "outputs": [],
   "source": [
    "outlier_thresh = 3 * np.std(wheel_angle_hist)\n",
    "filter_arr = (wheel_angle_arr < outlier_thresh) & (wheel_angle_arr > -outlier_thresh)\n",
    "wheel_angle_clean = wheel_angle_arr[filter_arr]\n",
    "road_angle_clean = road_angle_arr[filter_arr]"
   ]
  },
  {
   "cell_type": "code",
   "execution_count": 8,
   "metadata": {},
   "outputs": [
    {
     "name": "stdout",
     "output_type": "stream",
     "text": [
      "(5491, 500)\n"
     ]
    }
   ],
   "source": [
    "HIST_COEF = 500\n",
    "\n",
    "road_angle_ts = []\n",
    "wheel_angle_ts = []\n",
    "\n",
    "for i in range(len(road_angle_clean)):\n",
    "    if i < HIST_COEF:\n",
    "        continue\n",
    "    \n",
    "    road_angle_ts.append(road_angle_clean[i - HIST_COEF:i])\n",
    "    wheel_angle_ts.append(wheel_angle_clean[i])\n",
    "\n",
    "road_angle_ts_arr = np.array(road_angle_ts)\n",
    "wheel_angle_ts_arr = np.array(wheel_angle_ts)\n",
    "\n",
    "print(road_angle_ts_arr.shape)"
   ]
  },
  {
   "cell_type": "code",
   "execution_count": 9,
   "metadata": {},
   "outputs": [
    {
     "name": "stdout",
     "output_type": "stream",
     "text": [
      "(5491,)\n",
      "R2 0.8036264965839857\n",
      "MSE 5.444036824400796\n"
     ]
    }
   ],
   "source": [
    "from sklearn.linear_model import LinearRegression\n",
    "from sklearn.svm import SVR\n",
    "from sklearn.metrics import r2_score, mean_squared_error\n",
    "\n",
    "model = model = SVR()\n",
    "model.fit(road_angle_ts_arr, wheel_angle_ts_arr)\n",
    "\n",
    "yp = model.predict(road_angle_ts_arr)\n",
    "\n",
    "print(yp.shape)\n",
    "\n",
    "print(\"R2\", r2_score(wheel_angle_ts_arr, yp))\n",
    "print(\"MSE\", mean_squared_error(wheel_angle_ts_arr, yp)**0.5)"
   ]
  },
  {
   "cell_type": "code",
   "execution_count": 10,
   "metadata": {},
   "outputs": [
    {
     "data": {
      "text/plain": [
       "[<matplotlib.lines.Line2D at 0x7bfe940cba90>]"
      ]
     },
     "execution_count": 10,
     "metadata": {},
     "output_type": "execute_result"
    },
    {
     "data": {
      "image/png": "[encoded data removed]",
      "text/plain": [
       "<Figure size 640x480 with 1 Axes>"
      ]
     },
     "metadata": {},
     "output_type": "display_data"
    }
   ],
   "source": [
    "wheel_angle_pred_sanity = []\n",
    "\n",
    "for i in range(HIST_COEF, len(road_angle_clean)):\n",
    "    past_hist_samples = road_angle_clean[i - HIST_COEF:i]\n",
    "\n",
    "    pred = model.predict(past_hist_samples.reshape(1, -1))\n",
    "\n",
    "    wheel_angle_pred_sanity.append(pred)\n",
    "\n",
    "plt.plot(wheel_angle_ts_arr)\n",
    "plt.plot(wheel_angle_pred_sanity)"
   ]
  },
  {
   "cell_type": "code",
   "execution_count": 11,
   "metadata": {},
   "outputs": [
    {
     "name": "stderr",
     "output_type": "stream",
     "text": [
      "OpenCV: FFMPEG: tag 0x44495658/'XVID' is not supported with codec id 12 and format 'mp4 / MP4 (MPEG-4 Part 14)'\n",
      "OpenCV: FFMPEG: fallback to use tag 0x7634706d/'mp4v'\n"
     ]
    }
   ],
   "source": [
    "# Open the video file\n",
    "input_video_path = 'data/audi_gravel_road_footage.mp4'\n",
    "output_video_path = 'result_audi_v1.mp4'\n",
    "video_capture = cv2.VideoCapture(input_video_path)\n",
    "\n",
    "fcount = 0\n",
    "x_data = []\n",
    "\n",
    "# Get the frame rate and frame size\n",
    "frame_rate = int(video_capture.get(cv2.CAP_PROP_FPS))\n",
    "frame_width = int(video_capture.get(cv2.CAP_PROP_FRAME_WIDTH))\n",
    "frame_height = int(video_capture.get(cv2.CAP_PROP_FRAME_HEIGHT))\n",
    "\n",
    "start_frame = int(0 * frame_rate)\n",
    "end_frame = int(60 * frame_rate)\n",
    "\n",
    "fourcc = cv2.VideoWriter_fourcc(*'XVID')\n",
    "output_video = cv2.VideoWriter(output_video_path, fourcc, frame_rate, (frame_width, frame_height))\n",
    "\n",
    "# Loop through frames\n",
    "while True:\n",
    "    # Read a frame from the video\n",
    "    ret, frame = video_capture.read()\n",
    "\n",
    "    # Check if the frame is successfully read\n",
    "    if not ret:\n",
    "        break\n",
    "\n",
    "    try:\n",
    "        road_frame = crop_road_snippet(frame)\n",
    "        road_frame, road_angle = segment_gravel_road(road_frame)\n",
    "        \n",
    "        wheel_frame = crop_steering_wheel(frame)\n",
    "        c1, c2 = segment_hands(wheel_frame)\n",
    "\n",
    "        x_data.append(road_angle)\n",
    "\n",
    "        fcount += 1\n",
    "    except:\n",
    "        continue\n",
    "\n",
    "    if fcount < HIST_COEF:\n",
    "        continue\n",
    "    \n",
    "    cv2.line(frame, c1 + WHEEL_OFFSET, c2 + WHEEL_OFFSET, (0, 255, 0), 2)\n",
    "    cv2.circle(frame, c1 + WHEEL_OFFSET, 15, (255, 0, 0), -1)\n",
    "    cv2.circle(frame, c2 + WHEEL_OFFSET, 15, (255, 0, 0), -1)\n",
    "\n",
    "    angle = angle_of_wheel_line(c1, c2)\n",
    "\n",
    "    pred_angle = model.predict(np.array(x_data[-500:]).reshape(1, -1))\n",
    "\n",
    "    whl_ctr = np.mean([c1, c2], axis=0)\n",
    "    line_m = np.tan(np.deg2rad(pred_angle[0]))\n",
    "\n",
    "    d1 = np.array([\n",
    "        c1[0], int(whl_ctr[1] - abs(whl_ctr[0] - c1[0])*line_m)\n",
    "    ])\n",
    "    d2 = np.array([\n",
    "        c2[0], int(whl_ctr[1] + abs(whl_ctr[0] - c2[0])*line_m)\n",
    "    ])\n",
    "\n",
    "    cv2.line(frame, d1 + WHEEL_OFFSET, d2 + WHEEL_OFFSET, (0, 0, 255), 2)\n",
    "\n",
    "    cv2.putText(frame, f\"Prediction: {pred_angle[0]:.4f}\", (10, 20), 1, 2, (0, 255, 0))\n",
    "    cv2.putText(frame, f\"Truth: {angle:.4f}\", (10, 60), 1, 2, (0, 255, 0))\n",
    "\n",
    "    # Display the frame\n",
    "    #cv2.imshow('Frame', frame)\n",
    "\n",
    "    # # Wait for key press\n",
    "    # key = cv2.waitKey(0) & 0xFF\n",
    "\n",
    "    # # Quit if 'q' is pressed\n",
    "    # if key == ord('q'):\n",
    "    #     break\n",
    "\n",
    "    # Write frame to the output video if it falls within the specified time range\n",
    "    if start_frame <= video_capture.get(cv2.CAP_PROP_POS_FRAMES) <= end_frame:\n",
    "        output_video.write(frame)\n",
    "    \n",
    "    if video_capture.get(cv2.CAP_PROP_POS_FRAMES) >= end_frame:\n",
    "        break\n",
    "\n",
    "# Release video capture\n",
    "video_capture.release()\n",
    "cv2.destroyAllWindows()"
   ]
  },
  {
   "cell_type": "code",
   "execution_count": null,
   "metadata": {},
   "outputs": [],
   "source": []
  }
 ],
 "metadata": {
  "kernelspec": {
   "display_name": "Python 3",
   "language": "python",
   "name": "python3"
  },
  "language_info": {
   "codemirror_mode": {
    "name": "ipython",
    "version": 3
   },
   "file_extension": ".py",
   "mimetype": "text/x-python",
   "name": "python",
   "nbconvert_exporter": "python",
   "pygments_lexer": "ipython3",
   "version": "3.11.6"
  }
 },
 "nbformat": 4,
 "nbformat_minor": 2
}
