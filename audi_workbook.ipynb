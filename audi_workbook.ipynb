{
 "cells": [
  {
   "cell_type": "code",
   "execution_count": 2,
   "metadata": {},
   "outputs": [],
   "source": [
    "import cv2\n",
    "import numpy as np"
   ]
  },
  {
   "cell_type": "code",
   "execution_count": 3,
   "metadata": {},
   "outputs": [],
   "source": [
    "# crop video to length. Do not redo this.\n",
    "from cs585_common import crop_video\n",
    "\n",
    "input_video_path = 'data/audi_raw_data.mp4'\n",
    "output_video_path = 'data/audi_gravel_road_footage.mp4'\n",
    "start_time = (5 * 60)  # seconds\n",
    "end_time = (8 * 60 + 30)   # seconds\n",
    "\n",
    "#crop_video(input_video_path, output_video_path, start_time, end_time)"
   ]
  },
  {
   "cell_type": "code",
   "execution_count": 28,
   "metadata": {},
   "outputs": [],
   "source": [
    "def crop_road_snippet(frame):\n",
    "    # consts found by trial and error\n",
    "    return frame[100:200, 500:800]\n",
    "\n",
    "def crop_steering_wheel(frame):\n",
    "    pass"
   ]
  },
  {
   "cell_type": "code",
   "execution_count": 29,
   "metadata": {},
   "outputs": [],
   "source": [
    "def segment_gravel_road(frame):\n",
    "    # convert to HSV\n",
    "    hsv_frame = cv2.cvtColor(frame, cv2.COLOR_BGR2HSV)\n",
    "    blurred_frame = cv2.GaussianBlur(hsv_frame, (11, 11), 0)\n",
    "\n",
    "    lower_gray = np.array([0, 0, 50])\n",
    "    upper_gray = np.array([179, 50, 220])\n",
    "\n",
    "    mask = cv2.inRange(blurred_frame, lower_gray, upper_gray)\n",
    "\n",
    "    # Find contours\n",
    "    contours, _ = cv2.findContours(mask, cv2.RETR_EXTERNAL, cv2.CHAIN_APPROX_SIMPLE)\n",
    "\n",
    "    # Find the contour with the largest area\n",
    "    largest_contour = max(contours, key=cv2.contourArea)\n",
    "\n",
    "    # Create a mask for the largest contour\n",
    "    output = np.zeros(mask.shape)\n",
    "    cv2.drawContours(output, [largest_contour], -1, 1, cv2.FILLED)\n",
    "\n",
    "    return output\n",
    "\n",
    "def segment_audi_logo(frame):\n",
    "    pass"
   ]
  },
  {
   "cell_type": "code",
   "execution_count": 30,
   "metadata": {},
   "outputs": [],
   "source": [
    "# Open the video file\n",
    "input_video_path = 'data/audi_gravel_road_footage.mp4'\n",
    "video_capture = cv2.VideoCapture(input_video_path)\n",
    "\n",
    "# Loop through frames\n",
    "while True:\n",
    "    # Read a frame from the video\n",
    "    ret, frame = video_capture.read()\n",
    "\n",
    "    # Check if the frame is successfully read\n",
    "    if not ret:\n",
    "        break\n",
    "\n",
    "    frame = crop_road_snippet(frame)\n",
    "    frame = segment_gravel_road(frame)\n",
    "\n",
    "    # Display the frame\n",
    "    cv2.imshow('Frame', frame)\n",
    "\n",
    "    # Wait for key press\n",
    "    key = cv2.waitKey(0) & 0xFF\n",
    "\n",
    "    # Quit if 'q' is pressed\n",
    "    if key == ord('q'):\n",
    "        break\n",
    "\n",
    "# Release video capture\n",
    "video_capture.release()\n",
    "cv2.destroyAllWindows()"
   ]
  },
  {
   "cell_type": "code",
   "execution_count": null,
   "metadata": {},
   "outputs": [],
   "source": []
  }
 ],
 "metadata": {
  "kernelspec": {
   "display_name": "Python 3",
   "language": "python",
   "name": "python3"
  },
  "language_info": {
   "codemirror_mode": {
    "name": "ipython",
    "version": 3
   },
   "file_extension": ".py",
   "mimetype": "text/x-python",
   "name": "python",
   "nbconvert_exporter": "python",
   "pygments_lexer": "ipython3",
   "version": "3.10.6"
  }
 },
 "nbformat": 4,
 "nbformat_minor": 2
}
