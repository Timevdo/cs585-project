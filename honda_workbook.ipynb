{
 "cells": [
  {
   "cell_type": "code",
   "execution_count": 7,
   "metadata": {},
   "outputs": [],
   "source": [
    "import cv2\n",
    "import numpy as np"
   ]
  },
  {
   "cell_type": "code",
   "execution_count": 8,
   "metadata": {},
   "outputs": [],
   "source": [
    "# crop video to length. Do not redo this.\n",
    "from cs585_common import crop_video\n",
    "\n",
    "input_video_path = 'data/honda_raw_data.mp4'\n",
    "output_video_path = 'data/honda_highway_footage.mp4'\n",
    "start_time = (3 * 60 + 30)  # seconds\n",
    "end_time = (7 * 60 + 30)   # seconds\n",
    "\n",
    "# crop_video(input_video_path, output_video_path, start_time, end_time)"
   ]
  },
  {
   "cell_type": "code",
   "execution_count": 9,
   "metadata": {},
   "outputs": [],
   "source": [
    "def crop_road_snippet(frame):\n",
    "    # consts found by trial and error\n",
    "    return frame[0:200, 250:700]\n",
    "\n",
    "def crop_steering_wheel(frame):\n",
    "    pass"
   ]
  },
  {
   "cell_type": "code",
   "execution_count": 10,
   "metadata": {},
   "outputs": [],
   "source": [
    "def segment_yellow_lines(frame):\n",
    "    # convert to HSV\n",
    "    hsv_frame = cv2.cvtColor(frame, cv2.COLOR_BGR2HSV)\n",
    "\n",
    "    lower_yellow = np.array([20, 100, 100])\n",
    "    upper_yellow = np.array([30, 255, 255])\n",
    "\n",
    "    mask = cv2.inRange(hsv_frame, lower_yellow, upper_yellow)\n",
    "\n",
    "    return mask"
   ]
  },
  {
   "cell_type": "code",
   "execution_count": 11,
   "metadata": {},
   "outputs": [],
   "source": [
    "# Open the video file\n",
    "input_video_path = 'data/honda_highway_footage.mp4'\n",
    "video_capture = cv2.VideoCapture(input_video_path)\n",
    "\n",
    "# Loop through frames\n",
    "while True:\n",
    "    # Read a frame from the video\n",
    "    ret, frame = video_capture.read()\n",
    "\n",
    "    # Check if the frame is successfully read\n",
    "    if not ret:\n",
    "        break\n",
    "\n",
    "    #frame = crop_road_snippet(frame)\n",
    "    #frame = segment_yellow_lines(frame)\n",
    "\n",
    "    # Display the frame\n",
    "    cv2.imshow('Frame', frame)\n",
    "\n",
    "    # Wait for key press\n",
    "    key = cv2.waitKey(0) & 0xFF\n",
    "\n",
    "    # Quit if 'q' is pressed\n",
    "    if key == ord('q'):\n",
    "        break\n",
    "\n",
    "# Release video capture\n",
    "video_capture.release()\n",
    "cv2.destroyAllWindows()"
   ]
  },
  {
   "cell_type": "code",
   "execution_count": null,
   "metadata": {},
   "outputs": [],
   "source": []
  }
 ],
 "metadata": {
  "kernelspec": {
   "display_name": "Python 3",
   "language": "python",
   "name": "python3"
  },
  "language_info": {
   "codemirror_mode": {
    "name": "ipython",
    "version": 3
   },
   "file_extension": ".py",
   "mimetype": "text/x-python",
   "name": "python",
   "nbconvert_exporter": "python",
   "pygments_lexer": "ipython3",
   "version": "3.10.6"
  }
 },
 "nbformat": 4,
 "nbformat_minor": 2
}
